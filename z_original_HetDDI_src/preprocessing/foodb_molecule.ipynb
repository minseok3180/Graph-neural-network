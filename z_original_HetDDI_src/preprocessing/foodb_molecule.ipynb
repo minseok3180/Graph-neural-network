{
  "cells": [
    {
      "cell_type": "markdown",
      "metadata": {
        "id": "VoRUz37QQg_w"
      },
      "source": [
        "## **1. compound에 대한 SMILES 정보 불러와서 하나의 테이블로 병합**"
      ]
    },
    {
      "cell_type": "code",
      "execution_count": 1,
      "metadata": {
        "colab": {
          "base_uri": "https://localhost:8080/"
        },
        "id": "YZ5iBO5Kbfcz",
        "outputId": "b29350d7-889b-49c1-d1d2-302031b0d057"
      },
      "outputs": [
        {
          "name": "stdout",
          "output_type": "stream",
          "text": [
            "Mounted at /content/drive\n"
          ]
        }
      ],
      "source": [
        "from google.colab import drive\n",
        "drive.mount('/content/drive')"
      ]
    },
    {
      "cell_type": "code",
      "execution_count": null,
      "metadata": {
        "id": "ob7HZBl-m9jW"
      },
      "outputs": [],
      "source": [
        "compound_path = '/content/drive/MyDrive/compound.xlsx'\n",
        "content_path = '/content/drive/MyDrive/Content_new.xlsx'"
      ]
    },
    {
      "cell_type": "code",
      "execution_count": null,
      "metadata": {
        "id": "5nOfUgc5nl_r"
      },
      "outputs": [],
      "source": [
        "import pandas as pd\n",
        "\n",
        "# 파일 읽기\n",
        "df_compound = pd.read_excel(compound_path)\n",
        "df_content = pd.read_excel(content_path)\n",
        "\n",
        "# 데이터 일부 확인\n",
        "print(\"📄 compound.xlsx 미리보기\")\n",
        "display(df_compound.head())\n",
        "\n",
        "print(\"\\n📄 Content_new.xlsx 미리보기\")\n",
        "display(df_content.head())\n"
      ]
    },
    {
      "cell_type": "code",
      "execution_count": null,
      "metadata": {
        "id": "7Z6uA8KInpEj"
      },
      "outputs": [],
      "source": [
        "df_compound.rename(columns={'id': 'source_id'}, inplace=True)\n",
        "df_compound.head()"
      ]
    },
    {
      "cell_type": "code",
      "execution_count": null,
      "metadata": {
        "id": "S__KohSFoy_m"
      },
      "outputs": [],
      "source": [
        "# 병합 전에 name 컬럼이 있다면 삭제\n",
        "if 'moldb_smiles' in df_content.columns:\n",
        "    df_content = df_content.drop(columns=['moldb_smiles'])\n",
        "\n",
        "# 병합\n",
        "df_content = df_content.merge(df_compound[['source_id', 'moldb_smiles']], on='source_id', how='left')\n",
        "df_content.head()"
      ]
    },
    {
      "cell_type": "code",
      "execution_count": null,
      "metadata": {
        "id": "tpCQdUYz8-2E"
      },
      "outputs": [],
      "source": [
        "df_content.to_excel('content_combined_smiles.xlsx', index=False)"
      ]
    },
    {
      "cell_type": "code",
      "execution_count": null,
      "metadata": {
        "id": "gxMvblG49sbm"
      },
      "outputs": [],
      "source": [
        "from google.colab import files\n",
        "files.download('content_combined_smiles.xlsx')"
      ]
    },
    {
      "cell_type": "markdown",
      "metadata": {
        "id": "kKiiHTFTQ5fK"
      },
      "source": [
        "## **2. 데이터 전처리**"
      ]
    },
    {
      "cell_type": "code",
      "execution_count": null,
      "metadata": {
        "id": "pUxZU0t8-Q0d"
      },
      "outputs": [],
      "source": [
        "# 데이터 불러오기\n",
        "import pandas as pd\n",
        "df_content = pd.read_excel('content_combined_smiles.xlsx')"
      ]
    },
    {
      "cell_type": "markdown",
      "metadata": {
        "id": "35S-3uIovUSg"
      },
      "source": [
        "#### `orig_content` 에 대한 단위 `mg/100g`로 통일"
      ]
    },
    {
      "cell_type": "code",
      "execution_count": null,
      "metadata": {
        "colab": {
          "base_uri": "https://localhost:8080/"
        },
        "id": "dDN-WVOzQ3qw",
        "outputId": "21401f80-22c6-485b-f4da-1d4877546bb8"
      },
      "outputs": [
        {
          "name": "stdout",
          "output_type": "stream",
          "text": [
            "['mg/100g' 'kcal/100g' 'RE' '慣-TE' 'NE' 'IU' '쨉g' 'ug/g' 'uM']\n"
          ]
        }
      ],
      "source": [
        "unique_unit = df_content['orig_unit'].dropna().unique()\n",
        "num_unit = len(unique_unit)\n",
        "print(unique_unit)"
      ]
    },
    {
      "cell_type": "code",
      "execution_count": null,
      "metadata": {
        "colab": {
          "base_uri": "https://localhost:8080/"
        },
        "id": "NjOmjcvwu-fU",
        "outputId": "d5dfd075-49c6-4f35-d99c-2fc994833809"
      },
      "outputs": [
        {
          "name": "stdout",
          "output_type": "stream",
          "text": [
            "단위: IU\n",
            "해당 orig_content 값들: 1313\n",
            "\n",
            "단위: NE\n",
            "해당 orig_content 값들: 430\n",
            "\n",
            "단위: RE\n",
            "해당 orig_content 값들: 737\n",
            "\n",
            "단위: kcal/100g\n",
            "해당 orig_content 값들: 2682\n",
            "\n",
            "단위: mg/100g\n",
            "해당 orig_content 값들: 29509\n",
            "\n",
            "단위: uM\n",
            "해당 orig_content 값들: 1\n",
            "\n",
            "단위: ug/g\n",
            "해당 orig_content 값들: 3\n",
            "\n",
            "단위: 慣-TE\n",
            "해당 orig_content 값들: 230\n",
            "\n",
            "단위: 쨉g\n",
            "해당 orig_content 값들: 1\n",
            "\n"
          ]
        }
      ],
      "source": [
        "unit_content_map = df_content.groupby('orig_unit')['orig_content'].unique()\n",
        "\n",
        "for unit, contents in unit_content_map.items():\n",
        "    print(f\"단위: {unit}\")\n",
        "    print(f\"해당 orig_content 값들: {len(contents)}\\n\")"
      ]
    },
    {
      "cell_type": "code",
      "execution_count": null,
      "metadata": {
        "colab": {
          "base_uri": "https://localhost:8080/"
        },
        "id": "l5EwhjGtv0PR",
        "outputId": "ab98a214-5591-4495-e64d-ea3af465cdf8"
      },
      "outputs": [
        {
          "name": "stdout",
          "output_type": "stream",
          "text": [
            "1\n"
          ]
        }
      ],
      "source": [
        "df_mg_100g = df_content[df_content['orig_unit'] == 'mg/100g']\n",
        "unique_unit = df_mg_100g['orig_unit'].unique()\n",
        "num_unit = len(unique_unit)\n",
        "print(num_unit)"
      ]
    },
    {
      "cell_type": "markdown",
      "metadata": {
        "id": "w1bemWkIw_V-"
      },
      "source": [
        "#### 분석 시 사용하고자 하는 칼럼들인 `orig_food_common_name`, `moldb_smiles`, `orig_content`에 대해서 결측치 필터링"
      ]
    },
    {
      "cell_type": "code",
      "execution_count": null,
      "metadata": {
        "colab": {
          "base_uri": "https://localhost:8080/",
          "height": 504
        },
        "id": "G1KipDketXJD",
        "outputId": "b8852254-2158-4866-88d0-aa271ce05d6a"
      },
      "outputs": [
        {
          "name": "stdout",
          "output_type": "stream",
          "text": [
            "433462\n"
          ]
        },
        {
          "data": {
            "application/vnd.google.colaboratory.intrinsic+json": {
              "type": "dataframe",
              "variable_name": "df_clean"
            },
            "text/html": [
              "\n",
              "  <div id=\"df-a22a70e8-1e4f-4911-877a-0c82d4d4cae9\" class=\"colab-df-container\">\n",
              "    <div>\n",
              "<style scoped>\n",
              "    .dataframe tbody tr th:only-of-type {\n",
              "        vertical-align: middle;\n",
              "    }\n",
              "\n",
              "    .dataframe tbody tr th {\n",
              "        vertical-align: top;\n",
              "    }\n",
              "\n",
              "    .dataframe thead th {\n",
              "        text-align: right;\n",
              "    }\n",
              "</style>\n",
              "<table border=\"1\" class=\"dataframe\">\n",
              "  <thead>\n",
              "    <tr style=\"text-align: right;\">\n",
              "      <th></th>\n",
              "      <th>id</th>\n",
              "      <th>source_id</th>\n",
              "      <th>source_type</th>\n",
              "      <th>food_id</th>\n",
              "      <th>orig_food_id</th>\n",
              "      <th>orig_food_common_name</th>\n",
              "      <th>orig_food_part</th>\n",
              "      <th>orig_content</th>\n",
              "      <th>orig_unit</th>\n",
              "      <th>name</th>\n",
              "      <th>moldb_smiles</th>\n",
              "    </tr>\n",
              "  </thead>\n",
              "  <tbody>\n",
              "    <tr>\n",
              "      <th>19456</th>\n",
              "      <td>21071</td>\n",
              "      <td>4</td>\n",
              "      <td>Nutrient</td>\n",
              "      <td>2</td>\n",
              "      <td>674</td>\n",
              "      <td>Cabbage</td>\n",
              "      <td>NaN</td>\n",
              "      <td>100.0</td>\n",
              "      <td>mg/100g</td>\n",
              "      <td>Cyanidin 3-(6''-acetyl-galactoside)</td>\n",
              "      <td>[H][C@]1(COC(C)=O)O[C@@]([H])(OC2=CC3=C(O)C=C(...</td>\n",
              "    </tr>\n",
              "    <tr>\n",
              "      <th>19457</th>\n",
              "      <td>21072</td>\n",
              "      <td>4</td>\n",
              "      <td>Nutrient</td>\n",
              "      <td>4</td>\n",
              "      <td>465</td>\n",
              "      <td>Kiwi fruit</td>\n",
              "      <td>NaN</td>\n",
              "      <td>800.0</td>\n",
              "      <td>mg/100g</td>\n",
              "      <td>Cyanidin 3-(6''-acetyl-galactoside)</td>\n",
              "      <td>[H][C@]1(COC(C)=O)O[C@@]([H])(OC2=CC3=C(O)C=C(...</td>\n",
              "    </tr>\n",
              "    <tr>\n",
              "      <th>19458</th>\n",
              "      <td>21073</td>\n",
              "      <td>4</td>\n",
              "      <td>Nutrient</td>\n",
              "      <td>4</td>\n",
              "      <td>9148</td>\n",
              "      <td>Kiwifruit</td>\n",
              "      <td>NaN</td>\n",
              "      <td>520.0</td>\n",
              "      <td>mg/100g</td>\n",
              "      <td>Cyanidin 3-(6''-acetyl-galactoside)</td>\n",
              "      <td>[H][C@]1(COC(C)=O)O[C@@]([H])(OC2=CC3=C(O)C=C(...</td>\n",
              "    </tr>\n",
              "    <tr>\n",
              "      <th>19459</th>\n",
              "      <td>21074</td>\n",
              "      <td>4</td>\n",
              "      <td>Nutrient</td>\n",
              "      <td>4</td>\n",
              "      <td>9445</td>\n",
              "      <td>Kiwifruit</td>\n",
              "      <td>NaN</td>\n",
              "      <td>560.0</td>\n",
              "      <td>mg/100g</td>\n",
              "      <td>Cyanidin 3-(6''-acetyl-galactoside)</td>\n",
              "      <td>[H][C@]1(COC(C)=O)O[C@@]([H])(OC2=CC3=C(O)C=C(...</td>\n",
              "    </tr>\n",
              "    <tr>\n",
              "      <th>19460</th>\n",
              "      <td>21075</td>\n",
              "      <td>4</td>\n",
              "      <td>Nutrient</td>\n",
              "      <td>5</td>\n",
              "      <td>148</td>\n",
              "      <td>Onion</td>\n",
              "      <td>NaN</td>\n",
              "      <td>300.0</td>\n",
              "      <td>mg/100g</td>\n",
              "      <td>Cyanidin 3-(6''-acetyl-galactoside)</td>\n",
              "      <td>[H][C@]1(COC(C)=O)O[C@@]([H])(OC2=CC3=C(O)C=C(...</td>\n",
              "    </tr>\n",
              "  </tbody>\n",
              "</table>\n",
              "</div>\n",
              "    <div class=\"colab-df-buttons\">\n",
              "\n",
              "  <div class=\"colab-df-container\">\n",
              "    <button class=\"colab-df-convert\" onclick=\"convertToInteractive('df-a22a70e8-1e4f-4911-877a-0c82d4d4cae9')\"\n",
              "            title=\"Convert this dataframe to an interactive table.\"\n",
              "            style=\"display:none;\">\n",
              "\n",
              "  <svg xmlns=\"http://www.w3.org/2000/svg\" height=\"24px\" viewBox=\"0 -960 960 960\">\n",
              "    <path d=\"M120-120v-720h720v720H120Zm60-500h600v-160H180v160Zm220 220h160v-160H400v160Zm0 220h160v-160H400v160ZM180-400h160v-160H180v160Zm440 0h160v-160H620v160ZM180-180h160v-160H180v160Zm440 0h160v-160H620v160Z\"/>\n",
              "  </svg>\n",
              "    </button>\n",
              "\n",
              "  <style>\n",
              "    .colab-df-container {\n",
              "      display:flex;\n",
              "      gap: 12px;\n",
              "    }\n",
              "\n",
              "    .colab-df-convert {\n",
              "      background-color: #E8F0FE;\n",
              "      border: none;\n",
              "      border-radius: 50%;\n",
              "      cursor: pointer;\n",
              "      display: none;\n",
              "      fill: #1967D2;\n",
              "      height: 32px;\n",
              "      padding: 0 0 0 0;\n",
              "      width: 32px;\n",
              "    }\n",
              "\n",
              "    .colab-df-convert:hover {\n",
              "      background-color: #E2EBFA;\n",
              "      box-shadow: 0px 1px 2px rgba(60, 64, 67, 0.3), 0px 1px 3px 1px rgba(60, 64, 67, 0.15);\n",
              "      fill: #174EA6;\n",
              "    }\n",
              "\n",
              "    .colab-df-buttons div {\n",
              "      margin-bottom: 4px;\n",
              "    }\n",
              "\n",
              "    [theme=dark] .colab-df-convert {\n",
              "      background-color: #3B4455;\n",
              "      fill: #D2E3FC;\n",
              "    }\n",
              "\n",
              "    [theme=dark] .colab-df-convert:hover {\n",
              "      background-color: #434B5C;\n",
              "      box-shadow: 0px 1px 3px 1px rgba(0, 0, 0, 0.15);\n",
              "      filter: drop-shadow(0px 1px 2px rgba(0, 0, 0, 0.3));\n",
              "      fill: #FFFFFF;\n",
              "    }\n",
              "  </style>\n",
              "\n",
              "    <script>\n",
              "      const buttonEl =\n",
              "        document.querySelector('#df-a22a70e8-1e4f-4911-877a-0c82d4d4cae9 button.colab-df-convert');\n",
              "      buttonEl.style.display =\n",
              "        google.colab.kernel.accessAllowed ? 'block' : 'none';\n",
              "\n",
              "      async function convertToInteractive(key) {\n",
              "        const element = document.querySelector('#df-a22a70e8-1e4f-4911-877a-0c82d4d4cae9');\n",
              "        const dataTable =\n",
              "          await google.colab.kernel.invokeFunction('convertToInteractive',\n",
              "                                                    [key], {});\n",
              "        if (!dataTable) return;\n",
              "\n",
              "        const docLinkHtml = 'Like what you see? Visit the ' +\n",
              "          '<a target=\"_blank\" href=https://colab.research.google.com/notebooks/data_table.ipynb>data table notebook</a>'\n",
              "          + ' to learn more about interactive tables.';\n",
              "        element.innerHTML = '';\n",
              "        dataTable['output_type'] = 'display_data';\n",
              "        await google.colab.output.renderOutput(dataTable, element);\n",
              "        const docLink = document.createElement('div');\n",
              "        docLink.innerHTML = docLinkHtml;\n",
              "        element.appendChild(docLink);\n",
              "      }\n",
              "    </script>\n",
              "  </div>\n",
              "\n",
              "\n",
              "    <div id=\"df-7f661bdf-e04d-48c8-ae08-2360949a82c7\">\n",
              "      <button class=\"colab-df-quickchart\" onclick=\"quickchart('df-7f661bdf-e04d-48c8-ae08-2360949a82c7')\"\n",
              "                title=\"Suggest charts\"\n",
              "                style=\"display:none;\">\n",
              "\n",
              "<svg xmlns=\"http://www.w3.org/2000/svg\" height=\"24px\"viewBox=\"0 0 24 24\"\n",
              "     width=\"24px\">\n",
              "    <g>\n",
              "        <path d=\"M19 3H5c-1.1 0-2 .9-2 2v14c0 1.1.9 2 2 2h14c1.1 0 2-.9 2-2V5c0-1.1-.9-2-2-2zM9 17H7v-7h2v7zm4 0h-2V7h2v10zm4 0h-2v-4h2v4z\"/>\n",
              "    </g>\n",
              "</svg>\n",
              "      </button>\n",
              "\n",
              "<style>\n",
              "  .colab-df-quickchart {\n",
              "      --bg-color: #E8F0FE;\n",
              "      --fill-color: #1967D2;\n",
              "      --hover-bg-color: #E2EBFA;\n",
              "      --hover-fill-color: #174EA6;\n",
              "      --disabled-fill-color: #AAA;\n",
              "      --disabled-bg-color: #DDD;\n",
              "  }\n",
              "\n",
              "  [theme=dark] .colab-df-quickchart {\n",
              "      --bg-color: #3B4455;\n",
              "      --fill-color: #D2E3FC;\n",
              "      --hover-bg-color: #434B5C;\n",
              "      --hover-fill-color: #FFFFFF;\n",
              "      --disabled-bg-color: #3B4455;\n",
              "      --disabled-fill-color: #666;\n",
              "  }\n",
              "\n",
              "  .colab-df-quickchart {\n",
              "    background-color: var(--bg-color);\n",
              "    border: none;\n",
              "    border-radius: 50%;\n",
              "    cursor: pointer;\n",
              "    display: none;\n",
              "    fill: var(--fill-color);\n",
              "    height: 32px;\n",
              "    padding: 0;\n",
              "    width: 32px;\n",
              "  }\n",
              "\n",
              "  .colab-df-quickchart:hover {\n",
              "    background-color: var(--hover-bg-color);\n",
              "    box-shadow: 0 1px 2px rgba(60, 64, 67, 0.3), 0 1px 3px 1px rgba(60, 64, 67, 0.15);\n",
              "    fill: var(--button-hover-fill-color);\n",
              "  }\n",
              "\n",
              "  .colab-df-quickchart-complete:disabled,\n",
              "  .colab-df-quickchart-complete:disabled:hover {\n",
              "    background-color: var(--disabled-bg-color);\n",
              "    fill: var(--disabled-fill-color);\n",
              "    box-shadow: none;\n",
              "  }\n",
              "\n",
              "  .colab-df-spinner {\n",
              "    border: 2px solid var(--fill-color);\n",
              "    border-color: transparent;\n",
              "    border-bottom-color: var(--fill-color);\n",
              "    animation:\n",
              "      spin 1s steps(1) infinite;\n",
              "  }\n",
              "\n",
              "  @keyframes spin {\n",
              "    0% {\n",
              "      border-color: transparent;\n",
              "      border-bottom-color: var(--fill-color);\n",
              "      border-left-color: var(--fill-color);\n",
              "    }\n",
              "    20% {\n",
              "      border-color: transparent;\n",
              "      border-left-color: var(--fill-color);\n",
              "      border-top-color: var(--fill-color);\n",
              "    }\n",
              "    30% {\n",
              "      border-color: transparent;\n",
              "      border-left-color: var(--fill-color);\n",
              "      border-top-color: var(--fill-color);\n",
              "      border-right-color: var(--fill-color);\n",
              "    }\n",
              "    40% {\n",
              "      border-color: transparent;\n",
              "      border-right-color: var(--fill-color);\n",
              "      border-top-color: var(--fill-color);\n",
              "    }\n",
              "    60% {\n",
              "      border-color: transparent;\n",
              "      border-right-color: var(--fill-color);\n",
              "    }\n",
              "    80% {\n",
              "      border-color: transparent;\n",
              "      border-right-color: var(--fill-color);\n",
              "      border-bottom-color: var(--fill-color);\n",
              "    }\n",
              "    90% {\n",
              "      border-color: transparent;\n",
              "      border-bottom-color: var(--fill-color);\n",
              "    }\n",
              "  }\n",
              "</style>\n",
              "\n",
              "      <script>\n",
              "        async function quickchart(key) {\n",
              "          const quickchartButtonEl =\n",
              "            document.querySelector('#' + key + ' button');\n",
              "          quickchartButtonEl.disabled = true;  // To prevent multiple clicks.\n",
              "          quickchartButtonEl.classList.add('colab-df-spinner');\n",
              "          try {\n",
              "            const charts = await google.colab.kernel.invokeFunction(\n",
              "                'suggestCharts', [key], {});\n",
              "          } catch (error) {\n",
              "            console.error('Error during call to suggestCharts:', error);\n",
              "          }\n",
              "          quickchartButtonEl.classList.remove('colab-df-spinner');\n",
              "          quickchartButtonEl.classList.add('colab-df-quickchart-complete');\n",
              "        }\n",
              "        (() => {\n",
              "          let quickchartButtonEl =\n",
              "            document.querySelector('#df-7f661bdf-e04d-48c8-ae08-2360949a82c7 button');\n",
              "          quickchartButtonEl.style.display =\n",
              "            google.colab.kernel.accessAllowed ? 'block' : 'none';\n",
              "        })();\n",
              "      </script>\n",
              "    </div>\n",
              "\n",
              "    </div>\n",
              "  </div>\n"
            ],
            "text/plain": [
              "          id  source_id source_type  food_id orig_food_id  \\\n",
              "19456  21071          4    Nutrient        2          674   \n",
              "19457  21072          4    Nutrient        4          465   \n",
              "19458  21073          4    Nutrient        4         9148   \n",
              "19459  21074          4    Nutrient        4         9445   \n",
              "19460  21075          4    Nutrient        5          148   \n",
              "\n",
              "      orig_food_common_name orig_food_part  orig_content orig_unit  \\\n",
              "19456               Cabbage            NaN         100.0   mg/100g   \n",
              "19457            Kiwi fruit            NaN         800.0   mg/100g   \n",
              "19458             Kiwifruit            NaN         520.0   mg/100g   \n",
              "19459             Kiwifruit            NaN         560.0   mg/100g   \n",
              "19460                 Onion            NaN         300.0   mg/100g   \n",
              "\n",
              "                                      name  \\\n",
              "19456  Cyanidin 3-(6''-acetyl-galactoside)   \n",
              "19457  Cyanidin 3-(6''-acetyl-galactoside)   \n",
              "19458  Cyanidin 3-(6''-acetyl-galactoside)   \n",
              "19459  Cyanidin 3-(6''-acetyl-galactoside)   \n",
              "19460  Cyanidin 3-(6''-acetyl-galactoside)   \n",
              "\n",
              "                                            moldb_smiles  \n",
              "19456  [H][C@]1(COC(C)=O)O[C@@]([H])(OC2=CC3=C(O)C=C(...  \n",
              "19457  [H][C@]1(COC(C)=O)O[C@@]([H])(OC2=CC3=C(O)C=C(...  \n",
              "19458  [H][C@]1(COC(C)=O)O[C@@]([H])(OC2=CC3=C(O)C=C(...  \n",
              "19459  [H][C@]1(COC(C)=O)O[C@@]([H])(OC2=CC3=C(O)C=C(...  \n",
              "19460  [H][C@]1(COC(C)=O)O[C@@]([H])(OC2=CC3=C(O)C=C(...  "
            ]
          },
          "execution_count": 14,
          "metadata": {},
          "output_type": "execute_result"
        }
      ],
      "source": [
        "# moldb_smiles가 NaN인 행 제거\n",
        "df_clean = df_mg_100g.copy()\n",
        "# orig_food_common_name, orig_content, orig_unit Nan 행들 제거\n",
        "df_clean = df_clean[df_clean['orig_food_common_name'].notna()]\n",
        "df_clean = df_clean[df_clean['moldb_smiles'].notna()]\n",
        "df_clean = df_clean[df_clean['orig_content'].notna()]\n",
        "df_clean = df_clean[df_clean['orig_unit'].notna()]\n",
        "df_clean['orig_food_common_name'] = df_clean['orig_food_common_name'].str.split(',').str[0].str.strip()\n",
        "\n",
        "print(len(df_clean))\n",
        "df_clean.head()"
      ]
    },
    {
      "cell_type": "code",
      "execution_count": null,
      "metadata": {
        "colab": {
          "base_uri": "https://localhost:8080/",
          "height": 17
        },
        "id": "pl4SQ98bxdFE",
        "outputId": "f94635f0-442d-4420-c218-6d866f6888ce"
      },
      "outputs": [
        {
          "data": {
            "application/javascript": "\n    async function download(id, filename, size) {\n      if (!google.colab.kernel.accessAllowed) {\n        return;\n      }\n      const div = document.createElement('div');\n      const label = document.createElement('label');\n      label.textContent = `Downloading \"${filename}\": `;\n      div.appendChild(label);\n      const progress = document.createElement('progress');\n      progress.max = size;\n      div.appendChild(progress);\n      document.body.appendChild(div);\n\n      const buffers = [];\n      let downloaded = 0;\n\n      const channel = await google.colab.kernel.comms.open(id);\n      // Send a message to notify the kernel that we're ready.\n      channel.send({})\n\n      for await (const message of channel.messages) {\n        // Send a message to notify the kernel that we're ready.\n        channel.send({})\n        if (message.buffers) {\n          for (const buffer of message.buffers) {\n            buffers.push(buffer);\n            downloaded += buffer.byteLength;\n            progress.value = downloaded;\n          }\n        }\n      }\n      const blob = new Blob(buffers, {type: 'application/binary'});\n      const a = document.createElement('a');\n      a.href = window.URL.createObjectURL(blob);\n      a.download = filename;\n      div.appendChild(a);\n      a.click();\n      div.remove();\n    }\n  ",
            "text/plain": [
              "<IPython.core.display.Javascript object>"
            ]
          },
          "metadata": {},
          "output_type": "display_data"
        },
        {
          "data": {
            "application/javascript": "download(\"download_1ccd6a96-899a-4302-8298-2128d59577c0\", \"foodb_final.xlsx\", 23960302)",
            "text/plain": [
              "<IPython.core.display.Javascript object>"
            ]
          },
          "metadata": {},
          "output_type": "display_data"
        }
      ],
      "source": [
        "df_clean.to_excel('foodb_final.xlsx', index=False)\n",
        "from google.colab import files\n",
        "files.download('foodb_final.xlsx')"
      ]
    },
    {
      "cell_type": "markdown",
      "metadata": {
        "id": "QAW8wytnx-sp"
      },
      "source": [
        "## **3. food-compound 그래프 생성**"
      ]
    },
    {
      "cell_type": "code",
      "execution_count": null,
      "metadata": {
        "id": "ypAxOtiy07Zu"
      },
      "outputs": [],
      "source": [
        "# 데이터 불러오기\n",
        "import pandas as pd\n",
        "df_content = pd.read_excel('foodb_final.xlsx')"
      ]
    },
    {
      "cell_type": "code",
      "execution_count": null,
      "metadata": {
        "id": "czmmACcwPCBA"
      },
      "outputs": [],
      "source": [
        "# 데이터 처리 및 네트워크 분석을 위한 라이브러리 불러오기\n",
        "import networkx as nx\n",
        "import pandas as pd\n",
        "import os\n",
        "from tqdm import tqdm\n",
        "from collections import defaultdict"
      ]
    },
    {
      "cell_type": "markdown",
      "metadata": {
        "id": "0ONzoHwrksaX"
      },
      "source": [
        "#### food 노드와 compound(SMILES) 노드를 함유량 가중치 엣지로 연결한 이분 그래프 생성"
      ]
    },
    {
      "cell_type": "code",
      "execution_count": null,
      "metadata": {
        "colab": {
          "base_uri": "https://localhost:8080/"
        },
        "id": "wYJOncw8BiIB",
        "outputId": "cbcdf29b-b6d3-4b08-e2b0-58711679b6cc"
      },
      "outputs": [
        {
          "name": "stdout",
          "output_type": "stream",
          "text": [
            "음식 노드 수: 1641\n",
            "분자 노드 수: 1591\n"
          ]
        },
        {
          "name": "stderr",
          "output_type": "stream",
          "text": [
            "100%|██████████| 433462/433462 [00:19<00:00, 22307.82it/s]\n"
          ]
        },
        {
          "name": "stdout",
          "output_type": "stream",
          "text": [
            "추가된 엣지 수: 79357\n",
            "노드가 graph_data/nodes.tsv에 저장되었습니다\n",
            "엣지가 graph_data/edges.tsv에 저장되었습니다\n"
          ]
        },
        {
          "data": {
            "text/plain": [
              "<networkx.classes.graph.Graph at 0x7c3d1074e6d0>"
            ]
          },
          "execution_count": 23,
          "metadata": {},
          "output_type": "execute_result"
        }
      ],
      "source": [
        "def create_food_molecule_graph(df_clean, output_dir='graph_data'):\n",
        "\n",
        "    os.makedirs(output_dir, exist_ok=True)\n",
        "    # 그래프 생성\n",
        "    G = nx.Graph()\n",
        "\n",
        "    # 음식 노드 추가\n",
        "    food_nodes = set(df_clean['orig_food_common_name'])\n",
        "    print(f\"음식 노드 수: {len(food_nodes)}\")\n",
        "    for food in food_nodes:\n",
        "        G.add_node(food, node_type='food')\n",
        "\n",
        "    # 분자 노드 추가\n",
        "    molecule_nodes = set(df_clean['moldb_smiles'])\n",
        "    print(f\"분자 노드 수: {len(molecule_nodes)}\")\n",
        "    for smiles in molecule_nodes:\n",
        "        G.add_node(str(smiles), node_type='molecule')\n",
        "\n",
        "    # 엣지 추가\n",
        "    edge_weights = defaultdict(float)\n",
        "    edge_counts = defaultdict(int)\n",
        "    # 데이터 프레임을 순회하며 가중치(compound 함유량) 수집\n",
        "    for _, row in tqdm(df_clean.iterrows(), total=len(df_clean)):\n",
        "        food = row['orig_food_common_name']\n",
        "        smiles = str(row['moldb_smiles'])\n",
        "        edge_key = (food, smiles)\n",
        "        content_value = float(row['orig_content'])\n",
        "        edge_weights[edge_key] += content_value\n",
        "        edge_counts[edge_key] += 1\n",
        "\n",
        "    for edge_key, total_weight in edge_weights.items():\n",
        "        food, smiles = edge_key\n",
        "        avg_weight = total_weight / edge_counts[edge_key]\n",
        "        G.add_edge(food, smiles, weight=avg_weight)\n",
        "\n",
        "    print(f\"추가된 엣지 수: {len(edge_weights)}\")\n",
        "\n",
        "    # 노드를 TSV로 저장\n",
        "    nodes_data = []\n",
        "    for node, attrs in G.nodes(data=True):\n",
        "        node_data = {'id': node, 'node_type': attrs.get('node_type', '')}\n",
        "        nodes_data.append(node_data)\n",
        "\n",
        "    nodes_df = pd.DataFrame(nodes_data)\n",
        "    nodes_tsv_path = os.path.join(output_dir, 'food_nodes.tsv')\n",
        "    nodes_df.to_csv(nodes_tsv_path, sep='\\t', index=False)\n",
        "    print(f\"노드가 {nodes_tsv_path}에 저장되었습니다\")\n",
        "\n",
        "    # 엣지를 TSV로 저장\n",
        "    edges_data = []\n",
        "    for u, v, attrs in G.edges(data=True):\n",
        "        edge_data = {\n",
        "            'source': u,\n",
        "            'target': v,\n",
        "            'weight': attrs.get('weight', 1.0)\n",
        "        }\n",
        "        edges_data.append(edge_data)\n",
        "\n",
        "    edges_df = pd.DataFrame(edges_data)\n",
        "    edges_tsv_path = os.path.join(output_dir, 'food_edges.tsv')\n",
        "    edges_df.to_csv(edges_tsv_path, sep='\\t', index=False)\n",
        "    print(f\"엣지가 {edges_tsv_path}에 저장되었습니다\")\n",
        "\n",
        "    return G\n",
        "\n",
        "create_food_molecule_graph(df_clean, output_dir='graph_data')"
      ]
    }
  ],
  "metadata": {
    "accelerator": "GPU",
    "colab": {
      "collapsed_sections": [
        "35S-3uIovUSg"
      ],
      "gpuType": "L4",
      "machine_shape": "hm",
      "provenance": []
    },
    "kernelspec": {
      "display_name": "Python 3",
      "name": "python3"
    },
    "language_info": {
      "name": "python"
    }
  },
  "nbformat": 4,
  "nbformat_minor": 0
}
