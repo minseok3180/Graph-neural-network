{
 "cells": [
  {
   "cell_type": "code",
   "execution_count": 4,
   "id": "b1209000",
   "metadata": {},
   "outputs": [
    {
     "name": "stdout",
     "output_type": "stream",
     "text": [
      "3열 기준 min: 0.0, max: 85.0\n"
     ]
    }
   ],
   "source": [
    "import csv\n",
    "\n",
    "values = []\n",
    "\n",
    "with open('./ddiddi.tsv', 'r', encoding='utf-8') as f:\n",
    "    reader = csv.reader(f, delimiter='\\t')\n",
    "    for row in reader:\n",
    "        try:\n",
    "            value = float(row[2])  # 3번째 열 (index 2)\n",
    "            values.append(value)\n",
    "        except (ValueError, IndexError):\n",
    "            continue  # 숫자가 아니거나 열 부족하면 skip\n",
    "\n",
    "if values:\n",
    "    min_val = min(values)\n",
    "    max_val = max(values)\n",
    "    print(f\"3열 기준 min: {min_val}, max: {max_val}\")\n",
    "else:\n",
    "    print(\"3열에 유효한 숫자가 없습니다.\")\n"
   ]
  },
  {
   "cell_type": "code",
   "execution_count": null,
   "id": "7ab29963",
   "metadata": {},
   "outputs": [],
   "source": [
    "import csv\n",
    "\n",
    "input_path = './fdi_final.tsv'\n",
    "output_path = './ddi.tsv'\n",
    "\n",
    "with open(input_path, 'r', encoding='utf-8') as fin, open(output_path, 'w', encoding='utf-8', newline='') as fout:\n",
    "    reader = csv.reader(fin, delimiter='\\t')\n",
    "    writer = csv.writer(fout, delimiter='\\t')\n",
    "\n",
    "    for idx, row in enumerate(reader):\n",
    "        if len(row) < 3:\n",
    "            writer.writerow(row)\n",
    "            continue\n",
    "\n",
    "        if idx >= 191427:  # 191428번째 행부터\n",
    "            try:\n",
    "                row[2] = int(float(row[2]) - 1)\n",
    "            except ValueError:\n",
    "                pass  # 숫자 아님 → 그대로 둠\n",
    "\n",
    "        writer.writerow(row)\n"
   ]
  }
 ],
 "metadata": {
  "kernelspec": {
   "display_name": "hetddi",
   "language": "python",
   "name": "python3"
  },
  "language_info": {
   "codemirror_mode": {
    "name": "ipython",
    "version": 3
   },
   "file_extension": ".py",
   "mimetype": "text/x-python",
   "name": "python",
   "nbconvert_exporter": "python",
   "pygments_lexer": "ipython3",
   "version": "3.10.12"
  }
 },
 "nbformat": 4,
 "nbformat_minor": 5
}
